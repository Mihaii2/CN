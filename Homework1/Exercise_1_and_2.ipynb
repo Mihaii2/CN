{
 "cells": [
  {
   "cell_type": "code",
   "id": "initial_id",
   "metadata": {
    "collapsed": true,
    "ExecuteTime": {
     "end_time": "2025-03-02T12:58:35.997370Z",
     "start_time": "2025-03-02T12:58:35.992489Z"
    }
   },
   "source": [
    "def machine_precision():\n",
    "    u = 1.0\n",
    "    while (1.0 + u) != 1.0:\n",
    "        u /= 10  # Decrease u by a factor of 10\n",
    "    return u * 10  # Return the last u that caused 1 + u ≠ 1\n",
    "\n",
    "precision = machine_precision()\n",
    "print(\"Machine precision (u):\", precision)\n"
   ],
   "outputs": [
    {
     "name": "stdout",
     "output_type": "stream",
     "text": [
      "Machine precision (u): 1e-15\n"
     ]
    }
   ],
   "execution_count": 1
  },
  {
   "metadata": {
    "ExecuteTime": {
     "end_time": "2025-03-02T13:06:19.469671Z",
     "start_time": "2025-03-02T13:06:19.465239Z"
    }
   },
   "cell_type": "code",
   "source": [
    "import numpy as np\n",
    "\n",
    "# Step 1: Compute machine precision u\n",
    "def machine_precision():\n",
    "    u = 1.0\n",
    "    while (1.0 + u) != 1.0:\n",
    "        u /= 10\n",
    "    return u * 10\n",
    "\n",
    "u = machine_precision()\n",
    "\n",
    "# Step 2: Check non-associativity of floating-point addition\n",
    "x = 1.0\n",
    "y = u / 10\n",
    "z = u / 10\n",
    "\n",
    "left_add = (x + y) + z\n",
    "right_add = x + (y + z)\n",
    "\n",
    "print(\"Addition non-associativity check:\")\n",
    "print(f\"(x + y) + z = {left_add}\")\n",
    "print(f\"x + (y + z) = {right_add}\")\n",
    "print(\"Addition is non-associative:\", left_add != right_add)\n",
    "\n",
    "# Step 3: Find a case where floating-point multiplication is non-associative\n",
    "a = np.float64(1e30)\n",
    "b = np.float64(1e-20)\n",
    "c = np.float64(1e-10)\n",
    "\n",
    "left_mult = (a * b) * c\n",
    "right_mult = a * (b * c)\n",
    "\n",
    "print(\"\\nMultiplication non-associativity check:\")\n",
    "print(f\"(a * b) * c = {left_mult}\")\n",
    "print(f\"a * (b * c) = {right_mult}\")\n",
    "print(\"Multiplication is non-associative:\", left_mult != right_mult)\n"
   ],
   "id": "b016b3b5d5b3b1a2",
   "outputs": [
    {
     "name": "stdout",
     "output_type": "stream",
     "text": [
      "Addition non-associativity check:\n",
      "(x + y) + z = 1.0\n",
      "x + (y + z) = 1.0000000000000002\n",
      "Addition is non-associative: True\n",
      "\n",
      "Multiplication non-associativity check:\n",
      "(a * b) * c = 1.0\n",
      "a * (b * c) = 0.9999999999999999\n",
      "Multiplication is non-associative: True\n"
     ]
    }
   ],
   "execution_count": 41
  }
 ],
 "metadata": {
  "kernelspec": {
   "display_name": "Python 3",
   "language": "python",
   "name": "python3"
  },
  "language_info": {
   "codemirror_mode": {
    "name": "ipython",
    "version": 2
   },
   "file_extension": ".py",
   "mimetype": "text/x-python",
   "name": "python",
   "nbconvert_exporter": "python",
   "pygments_lexer": "ipython2",
   "version": "2.7.6"
  }
 },
 "nbformat": 4,
 "nbformat_minor": 5
}
